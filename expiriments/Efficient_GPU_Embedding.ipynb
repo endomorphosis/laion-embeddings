{
 "cells": [
  {
   "cell_type": "markdown",
   "id": "4725ce30-7334-46fb-b1cc-faad3b2588c8",
   "metadata": {},
   "source": [
    "At first, we'll use the sentence transformers to use multiple GPUs and run our embeddings"
   ]
  },
  {
   "cell_type": "markdown",
   "id": "886c1063-b6f6-4835-86da-2e2a86d4f1ba",
   "metadata": {},
   "source": [
    "### Method 1. Sentence Transformers to generate embeddings using Multi-GPUs"
   ]
  },
  {
   "cell_type": "markdown",
   "id": "57661dcd-2d6c-48c8-b29b-e9daf911684b",
   "metadata": {},
   "source": [
    "Importing sentence transformers library"
   ]
  },
  {
   "cell_type": "code",
   "execution_count": 3,
   "id": "30fbfcd1-760b-4a6a-8a51-184a65b513b8",
   "metadata": {},
   "outputs": [],
   "source": [
    "from sentence_transformers import SentenceTransformer\n",
    "from tqdm.autonotebook import tqdm, trange"
   ]
  },
  {
   "cell_type": "code",
   "execution_count": 4,
   "id": "39634d3f-e17f-4a4c-b4d4-0790a5688e69",
   "metadata": {},
   "outputs": [],
   "source": [
    "model = SentenceTransformer(\"BAAI/bge-m3\", device=\"cuda\")"
   ]
  },
  {
   "cell_type": "markdown",
   "id": "b8d73c0e-619c-449d-8512-e8fd2e03454f",
   "metadata": {},
   "source": [
    "Using one-liner function from sentnece transformers to use multi-gpu"
   ]
  },
  {
   "cell_type": "code",
   "execution_count": 5,
   "id": "344d60d1-8664-41d4-b16f-f3cf109cb534",
   "metadata": {},
   "outputs": [],
   "source": [
    "pool = model.start_multi_process_pool()"
   ]
  },
  {
   "cell_type": "code",
   "execution_count": 6,
   "id": "f1711b24-60a5-4aa3-a3e6-48ac70c76d95",
   "metadata": {},
   "outputs": [],
   "source": [
    "# The sentences to encode\n",
    "sentences = [\n",
    "    \"The weather is lovely today.\",\n",
    "    \"It's so sunny outside!\",\n",
    "    \"He drove to the stadium.\",\n",
    "]"
   ]
  },
  {
   "cell_type": "code",
   "execution_count": 7,
   "id": "7ca859fe-8946-4427-99c5-b1537591fa25",
   "metadata": {},
   "outputs": [],
   "source": [
    "emb = model.encode_multi_process(sentences, pool)"
   ]
  },
  {
   "cell_type": "code",
   "execution_count": 8,
   "id": "82cd66a8-9142-4320-8dfc-7d97aff2f565",
   "metadata": {},
   "outputs": [
    {
     "name": "stdout",
     "output_type": "stream",
     "text": [
      "Embeddings computed. Shape: (3, 1024)\n"
     ]
    }
   ],
   "source": [
    "print(\"Embeddings computed. Shape:\", emb.shape)"
   ]
  },
  {
   "cell_type": "code",
   "execution_count": 1,
   "id": "c278258e-3cc6-4624-8cac-5a1c4fa44f25",
   "metadata": {},
   "outputs": [
    {
     "name": "stderr",
     "output_type": "stream",
     "text": [
      "/mnt/nvme/gpu_node/lib/python3.8/site-packages/sentence_transformers/cross_encoder/CrossEncoder.py:11: TqdmExperimentalWarning: Using `tqdm.autonotebook.tqdm` in notebook mode. Use `tqdm.tqdm` instead to force console mode (e.g. in jupyter console)\n",
      "  from tqdm.autonotebook import tqdm, trange\n"
     ]
    },
    {
     "data": {
      "application/vnd.jupyter.widget-view+json": {
       "model_id": "7637601e10c940ffbd5df81b136f7b31",
       "version_major": 2,
       "version_minor": 0
      },
      "text/plain": [
       "Processing sentences:   0%|          | 0/500 [00:00<?, ?it/s]"
      ]
     },
     "metadata": {},
     "output_type": "display_data"
    },
    {
     "name": "stdout",
     "output_type": "stream",
     "text": [
      "Operation took 0.42 minutes\n"
     ]
    }
   ],
   "source": [
    "import pyarrow.parquet as pq\n",
    "import pyarrow as pa\n",
    "from sentence_transformers import SentenceTransformer\n",
    "import time\n",
    "from tqdm.autonotebook import tqdm\n",
    "\n",
    "start_time = time.time()\n",
    "\n",
    "input_file = 'bnwiki_all_abstract.parquet'\n",
    "output_file = 'hf_embed.parquet'\n",
    "\n",
    "table = pq.read_table(input_file)\n",
    "df_subset = table.slice(0, 500).to_pandas()\n",
    "\n",
    "sentences = df_subset['Abstract'].tolist()\n",
    "version_control = df_subset['Version Control'].tolist()\n",
    "\n",
    "model = SentenceTransformer(\"BAAI/bge-m3\", device=\"cuda\")\n",
    "pool = model.start_multi_process_pool()\n",
    "\n",
    "with tqdm(total=len(sentences), desc=\"Processing sentences\") as pbar:\n",
    "    embeddings = model.encode_multi_process(sentences, pool)\n",
    "    pbar.update(len(sentences))\n",
    "\n",
    "# Convert embeddings to lists of floats\n",
    "embedding_lists = [list(embed) for embed in embeddings]\n",
    "\n",
    "# Define schema for the table\n",
    "embedding_field = pa.field('embeddings', pa.list_(pa.float32()))\n",
    "version_control_field = pa.field('Version Control', pa.string())\n",
    "schema = pa.schema([embedding_field, version_control_field])\n",
    "\n",
    "# Create a PyArrow Table\n",
    "embedding_array = pa.array(embedding_lists, type=pa.list_(pa.float32()))\n",
    "embedding_dict = {\n",
    "    'embeddings': embedding_array,\n",
    "    'Version Control': pa.array(version_control)\n",
    "}\n",
    "table = pa.table(embedding_dict, schema=schema)\n",
    "\n",
    "pq.write_table(table, output_file)\n",
    "\n",
    "end_time = time.time()\n",
    "elapsed_time = (end_time - start_time) / 60\n",
    "\n",
    "print(f\"Operation took {elapsed_time:.2f} minutes\")\n"
   ]
  },
  {
   "cell_type": "code",
   "execution_count": 2,
   "id": "e22549a7-a8de-4d50-a869-59cada358729",
   "metadata": {
    "scrolled": true
   },
   "outputs": [
    {
     "name": "stdout",
     "output_type": "stream",
     "text": [
      "                                            embeddings   Version Control\n",
      "0    [-0.0043944786, -0.006028448, -0.024245542, -0...      MjAyNDA4MTkx\n",
      "1    [-0.060743816, 0.047289453, -0.026209904, 0.01...      MjAyNDA4MTky\n",
      "2    [0.010410685, 0.031769264, -0.051782552, -0.01...      MjAyNDA4MTkz\n",
      "3    [-0.0097603975, 0.02948852, -0.056248866, -0.0...      MjAyNDA4MTk0\n",
      "4    [0.0075047207, 0.037451863, -0.04594199, -0.02...      MjAyNDA4MTk1\n",
      "..                                                 ...               ...\n",
      "495  [-0.022085749, 0.010010308, -0.06106033, 0.027...  MjAyNDA4MTk0OTY=\n",
      "496  [0.013045211, 0.05702561, -0.055616893, -0.007...  MjAyNDA4MTk0OTc=\n",
      "497  [0.0017702369, 0.04213707, -0.039500177, -0.01...  MjAyNDA4MTk0OTg=\n",
      "498  [0.004692101, 0.016187033, -0.019337796, -0.00...  MjAyNDA4MTk0OTk=\n",
      "499  [0.015568068, 0.046629403, -0.050442986, -0.01...  MjAyNDA4MTk1MDA=\n",
      "\n",
      "[500 rows x 2 columns]\n"
     ]
    }
   ],
   "source": [
    "import pyarrow.parquet as pq\n",
    "\n",
    "input_file = 'hf_embed.parquet'\n",
    "\n",
    "table = pq.read_table(input_file)\n",
    "df = table.to_pandas()\n",
    "\n",
    "print(df)\n"
   ]
  },
  {
   "cell_type": "markdown",
   "id": "476770d3-79fc-47b6-b03d-584c3542857a",
   "metadata": {},
   "source": [
    "### Method 2. Generate Embeddings using Ray and Distributing the workload "
   ]
  },
  {
   "cell_type": "code",
   "execution_count": 6,
   "id": "a5ebddd5-ab24-4414-a026-c52bd2188f42",
   "metadata": {},
   "outputs": [
    {
     "name": "stdout",
     "output_type": "stream",
     "text": [
      "/bin/bash: line 0: kill: (2923098) - Operation not permitted\n"
     ]
    }
   ],
   "source": [
    "!kill -9 2923098"
   ]
  },
  {
   "cell_type": "code",
   "execution_count": 7,
   "id": "5087fe17-85ff-45c9-98f6-d51aedd84c4a",
   "metadata": {},
   "outputs": [
    {
     "name": "stdout",
     "output_type": "stream",
     "text": [
      "[sudo] password for ammar: \n"
     ]
    }
   ],
   "source": [
    "!sudo kill -9 2923098"
   ]
  },
  {
   "cell_type": "code",
   "execution_count": null,
   "id": "dbf2256b-c795-4536-ab4b-1e48003d6466",
   "metadata": {},
   "outputs": [],
   "source": []
  }
 ],
 "metadata": {
  "kernelspec": {
   "display_name": "Python 3 (ipykernel)",
   "language": "python",
   "name": "python3"
  },
  "language_info": {
   "codemirror_mode": {
    "name": "ipython",
    "version": 3
   },
   "file_extension": ".py",
   "mimetype": "text/x-python",
   "name": "python",
   "nbconvert_exporter": "python",
   "pygments_lexer": "ipython3",
   "version": "3.8.10"
  }
 },
 "nbformat": 4,
 "nbformat_minor": 5
}
